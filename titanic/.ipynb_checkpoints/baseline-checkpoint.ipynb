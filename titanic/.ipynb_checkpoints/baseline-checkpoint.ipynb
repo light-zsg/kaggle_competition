{
 "cells": [
  {
   "cell_type": "markdown",
   "id": "b813796e",
   "metadata": {},
   "source": [
    "# 1. 分析输入数据的基本情况\n",
    "- 数据类型：定类/定序/等差/等比，数值/非数值\n",
    "- 数值的取值范围和分布\n",
    "- 缺失值"
   ]
  },
  {
   "cell_type": "code",
   "execution_count": 1,
   "id": "3fae0ac8",
   "metadata": {},
   "outputs": [],
   "source": [
    "train_csv = './data/train.csv'\n",
    "test_csv = './data/test.csv'"
   ]
  },
  {
   "cell_type": "code",
   "execution_count": 2,
   "id": "32dcd8f3",
   "metadata": {},
   "outputs": [],
   "source": [
    "import pandas as pd\n",
    "\n",
    "df = pd.read_csv(train_csv)\n",
    "test_df = pd.read_csv(test_csv)"
   ]
  },
  {
   "cell_type": "code",
   "execution_count": 3,
   "id": "21b5e436",
   "metadata": {},
   "outputs": [
    {
     "data": {
      "text/plain": [
       "Index(['PassengerId', 'Survived', 'Pclass', 'Name', 'Sex', 'Age', 'SibSp',\n",
       "       'Parch', 'Ticket', 'Fare', 'Cabin', 'Embarked'],\n",
       "      dtype='object')"
      ]
     },
     "execution_count": 3,
     "metadata": {},
     "output_type": "execute_result"
    }
   ],
   "source": [
    "df.columns"
   ]
  },
  {
   "cell_type": "code",
   "execution_count": 4,
   "id": "5bcb26d8",
   "metadata": {},
   "outputs": [
    {
     "data": {
      "text/html": [
       "<div>\n",
       "<style scoped>\n",
       "    .dataframe tbody tr th:only-of-type {\n",
       "        vertical-align: middle;\n",
       "    }\n",
       "\n",
       "    .dataframe tbody tr th {\n",
       "        vertical-align: top;\n",
       "    }\n",
       "\n",
       "    .dataframe thead th {\n",
       "        text-align: right;\n",
       "    }\n",
       "</style>\n",
       "<table border=\"1\" class=\"dataframe\">\n",
       "  <thead>\n",
       "    <tr style=\"text-align: right;\">\n",
       "      <th></th>\n",
       "      <th>PassengerId</th>\n",
       "      <th>Survived</th>\n",
       "      <th>Pclass</th>\n",
       "      <th>Name</th>\n",
       "      <th>Sex</th>\n",
       "      <th>Age</th>\n",
       "      <th>SibSp</th>\n",
       "      <th>Parch</th>\n",
       "      <th>Ticket</th>\n",
       "      <th>Fare</th>\n",
       "      <th>Cabin</th>\n",
       "      <th>Embarked</th>\n",
       "    </tr>\n",
       "  </thead>\n",
       "  <tbody>\n",
       "    <tr>\n",
       "      <th>0</th>\n",
       "      <td>1</td>\n",
       "      <td>0</td>\n",
       "      <td>3</td>\n",
       "      <td>Braund, Mr. Owen Harris</td>\n",
       "      <td>male</td>\n",
       "      <td>22.0</td>\n",
       "      <td>1</td>\n",
       "      <td>0</td>\n",
       "      <td>A/5 21171</td>\n",
       "      <td>7.2500</td>\n",
       "      <td>NaN</td>\n",
       "      <td>S</td>\n",
       "    </tr>\n",
       "    <tr>\n",
       "      <th>1</th>\n",
       "      <td>2</td>\n",
       "      <td>1</td>\n",
       "      <td>1</td>\n",
       "      <td>Cumings, Mrs. John Bradley (Florence Briggs Th...</td>\n",
       "      <td>female</td>\n",
       "      <td>38.0</td>\n",
       "      <td>1</td>\n",
       "      <td>0</td>\n",
       "      <td>PC 17599</td>\n",
       "      <td>71.2833</td>\n",
       "      <td>C85</td>\n",
       "      <td>C</td>\n",
       "    </tr>\n",
       "    <tr>\n",
       "      <th>2</th>\n",
       "      <td>3</td>\n",
       "      <td>1</td>\n",
       "      <td>3</td>\n",
       "      <td>Heikkinen, Miss. Laina</td>\n",
       "      <td>female</td>\n",
       "      <td>26.0</td>\n",
       "      <td>0</td>\n",
       "      <td>0</td>\n",
       "      <td>STON/O2. 3101282</td>\n",
       "      <td>7.9250</td>\n",
       "      <td>NaN</td>\n",
       "      <td>S</td>\n",
       "    </tr>\n",
       "    <tr>\n",
       "      <th>3</th>\n",
       "      <td>4</td>\n",
       "      <td>1</td>\n",
       "      <td>1</td>\n",
       "      <td>Futrelle, Mrs. Jacques Heath (Lily May Peel)</td>\n",
       "      <td>female</td>\n",
       "      <td>35.0</td>\n",
       "      <td>1</td>\n",
       "      <td>0</td>\n",
       "      <td>113803</td>\n",
       "      <td>53.1000</td>\n",
       "      <td>C123</td>\n",
       "      <td>S</td>\n",
       "    </tr>\n",
       "    <tr>\n",
       "      <th>4</th>\n",
       "      <td>5</td>\n",
       "      <td>0</td>\n",
       "      <td>3</td>\n",
       "      <td>Allen, Mr. William Henry</td>\n",
       "      <td>male</td>\n",
       "      <td>35.0</td>\n",
       "      <td>0</td>\n",
       "      <td>0</td>\n",
       "      <td>373450</td>\n",
       "      <td>8.0500</td>\n",
       "      <td>NaN</td>\n",
       "      <td>S</td>\n",
       "    </tr>\n",
       "    <tr>\n",
       "      <th>5</th>\n",
       "      <td>6</td>\n",
       "      <td>0</td>\n",
       "      <td>3</td>\n",
       "      <td>Moran, Mr. James</td>\n",
       "      <td>male</td>\n",
       "      <td>NaN</td>\n",
       "      <td>0</td>\n",
       "      <td>0</td>\n",
       "      <td>330877</td>\n",
       "      <td>8.4583</td>\n",
       "      <td>NaN</td>\n",
       "      <td>Q</td>\n",
       "    </tr>\n",
       "    <tr>\n",
       "      <th>6</th>\n",
       "      <td>7</td>\n",
       "      <td>0</td>\n",
       "      <td>1</td>\n",
       "      <td>McCarthy, Mr. Timothy J</td>\n",
       "      <td>male</td>\n",
       "      <td>54.0</td>\n",
       "      <td>0</td>\n",
       "      <td>0</td>\n",
       "      <td>17463</td>\n",
       "      <td>51.8625</td>\n",
       "      <td>E46</td>\n",
       "      <td>S</td>\n",
       "    </tr>\n",
       "    <tr>\n",
       "      <th>7</th>\n",
       "      <td>8</td>\n",
       "      <td>0</td>\n",
       "      <td>3</td>\n",
       "      <td>Palsson, Master. Gosta Leonard</td>\n",
       "      <td>male</td>\n",
       "      <td>2.0</td>\n",
       "      <td>3</td>\n",
       "      <td>1</td>\n",
       "      <td>349909</td>\n",
       "      <td>21.0750</td>\n",
       "      <td>NaN</td>\n",
       "      <td>S</td>\n",
       "    </tr>\n",
       "    <tr>\n",
       "      <th>8</th>\n",
       "      <td>9</td>\n",
       "      <td>1</td>\n",
       "      <td>3</td>\n",
       "      <td>Johnson, Mrs. Oscar W (Elisabeth Vilhelmina Berg)</td>\n",
       "      <td>female</td>\n",
       "      <td>27.0</td>\n",
       "      <td>0</td>\n",
       "      <td>2</td>\n",
       "      <td>347742</td>\n",
       "      <td>11.1333</td>\n",
       "      <td>NaN</td>\n",
       "      <td>S</td>\n",
       "    </tr>\n",
       "    <tr>\n",
       "      <th>9</th>\n",
       "      <td>10</td>\n",
       "      <td>1</td>\n",
       "      <td>2</td>\n",
       "      <td>Nasser, Mrs. Nicholas (Adele Achem)</td>\n",
       "      <td>female</td>\n",
       "      <td>14.0</td>\n",
       "      <td>1</td>\n",
       "      <td>0</td>\n",
       "      <td>237736</td>\n",
       "      <td>30.0708</td>\n",
       "      <td>NaN</td>\n",
       "      <td>C</td>\n",
       "    </tr>\n",
       "  </tbody>\n",
       "</table>\n",
       "</div>"
      ],
      "text/plain": [
       "   PassengerId  Survived  Pclass  \\\n",
       "0            1         0       3   \n",
       "1            2         1       1   \n",
       "2            3         1       3   \n",
       "3            4         1       1   \n",
       "4            5         0       3   \n",
       "5            6         0       3   \n",
       "6            7         0       1   \n",
       "7            8         0       3   \n",
       "8            9         1       3   \n",
       "9           10         1       2   \n",
       "\n",
       "                                                Name     Sex   Age  SibSp  \\\n",
       "0                            Braund, Mr. Owen Harris    male  22.0      1   \n",
       "1  Cumings, Mrs. John Bradley (Florence Briggs Th...  female  38.0      1   \n",
       "2                             Heikkinen, Miss. Laina  female  26.0      0   \n",
       "3       Futrelle, Mrs. Jacques Heath (Lily May Peel)  female  35.0      1   \n",
       "4                           Allen, Mr. William Henry    male  35.0      0   \n",
       "5                                   Moran, Mr. James    male   NaN      0   \n",
       "6                            McCarthy, Mr. Timothy J    male  54.0      0   \n",
       "7                     Palsson, Master. Gosta Leonard    male   2.0      3   \n",
       "8  Johnson, Mrs. Oscar W (Elisabeth Vilhelmina Berg)  female  27.0      0   \n",
       "9                Nasser, Mrs. Nicholas (Adele Achem)  female  14.0      1   \n",
       "\n",
       "   Parch            Ticket     Fare Cabin Embarked  \n",
       "0      0         A/5 21171   7.2500   NaN        S  \n",
       "1      0          PC 17599  71.2833   C85        C  \n",
       "2      0  STON/O2. 3101282   7.9250   NaN        S  \n",
       "3      0            113803  53.1000  C123        S  \n",
       "4      0            373450   8.0500   NaN        S  \n",
       "5      0            330877   8.4583   NaN        Q  \n",
       "6      0             17463  51.8625   E46        S  \n",
       "7      1            349909  21.0750   NaN        S  \n",
       "8      2            347742  11.1333   NaN        S  \n",
       "9      0            237736  30.0708   NaN        C  "
      ]
     },
     "execution_count": 4,
     "metadata": {},
     "output_type": "execute_result"
    }
   ],
   "source": [
    "df.head(10)"
   ]
  },
  {
   "cell_type": "code",
   "execution_count": 5,
   "id": "bb013aea",
   "metadata": {},
   "outputs": [
    {
     "data": {
      "text/html": [
       "<div>\n",
       "<style scoped>\n",
       "    .dataframe tbody tr th:only-of-type {\n",
       "        vertical-align: middle;\n",
       "    }\n",
       "\n",
       "    .dataframe tbody tr th {\n",
       "        vertical-align: top;\n",
       "    }\n",
       "\n",
       "    .dataframe thead th {\n",
       "        text-align: right;\n",
       "    }\n",
       "</style>\n",
       "<table border=\"1\" class=\"dataframe\">\n",
       "  <thead>\n",
       "    <tr style=\"text-align: right;\">\n",
       "      <th></th>\n",
       "      <th>PassengerId</th>\n",
       "      <th>Survived</th>\n",
       "      <th>Pclass</th>\n",
       "      <th>Age</th>\n",
       "      <th>SibSp</th>\n",
       "      <th>Parch</th>\n",
       "      <th>Fare</th>\n",
       "    </tr>\n",
       "  </thead>\n",
       "  <tbody>\n",
       "    <tr>\n",
       "      <th>count</th>\n",
       "      <td>891.000000</td>\n",
       "      <td>891.000000</td>\n",
       "      <td>891.000000</td>\n",
       "      <td>714.000000</td>\n",
       "      <td>891.000000</td>\n",
       "      <td>891.000000</td>\n",
       "      <td>891.000000</td>\n",
       "    </tr>\n",
       "    <tr>\n",
       "      <th>mean</th>\n",
       "      <td>446.000000</td>\n",
       "      <td>0.383838</td>\n",
       "      <td>2.308642</td>\n",
       "      <td>29.699118</td>\n",
       "      <td>0.523008</td>\n",
       "      <td>0.381594</td>\n",
       "      <td>32.204208</td>\n",
       "    </tr>\n",
       "    <tr>\n",
       "      <th>std</th>\n",
       "      <td>257.353842</td>\n",
       "      <td>0.486592</td>\n",
       "      <td>0.836071</td>\n",
       "      <td>14.526497</td>\n",
       "      <td>1.102743</td>\n",
       "      <td>0.806057</td>\n",
       "      <td>49.693429</td>\n",
       "    </tr>\n",
       "    <tr>\n",
       "      <th>min</th>\n",
       "      <td>1.000000</td>\n",
       "      <td>0.000000</td>\n",
       "      <td>1.000000</td>\n",
       "      <td>0.420000</td>\n",
       "      <td>0.000000</td>\n",
       "      <td>0.000000</td>\n",
       "      <td>0.000000</td>\n",
       "    </tr>\n",
       "    <tr>\n",
       "      <th>25%</th>\n",
       "      <td>223.500000</td>\n",
       "      <td>0.000000</td>\n",
       "      <td>2.000000</td>\n",
       "      <td>20.125000</td>\n",
       "      <td>0.000000</td>\n",
       "      <td>0.000000</td>\n",
       "      <td>7.910400</td>\n",
       "    </tr>\n",
       "    <tr>\n",
       "      <th>50%</th>\n",
       "      <td>446.000000</td>\n",
       "      <td>0.000000</td>\n",
       "      <td>3.000000</td>\n",
       "      <td>28.000000</td>\n",
       "      <td>0.000000</td>\n",
       "      <td>0.000000</td>\n",
       "      <td>14.454200</td>\n",
       "    </tr>\n",
       "    <tr>\n",
       "      <th>75%</th>\n",
       "      <td>668.500000</td>\n",
       "      <td>1.000000</td>\n",
       "      <td>3.000000</td>\n",
       "      <td>38.000000</td>\n",
       "      <td>1.000000</td>\n",
       "      <td>0.000000</td>\n",
       "      <td>31.000000</td>\n",
       "    </tr>\n",
       "    <tr>\n",
       "      <th>max</th>\n",
       "      <td>891.000000</td>\n",
       "      <td>1.000000</td>\n",
       "      <td>3.000000</td>\n",
       "      <td>80.000000</td>\n",
       "      <td>8.000000</td>\n",
       "      <td>6.000000</td>\n",
       "      <td>512.329200</td>\n",
       "    </tr>\n",
       "  </tbody>\n",
       "</table>\n",
       "</div>"
      ],
      "text/plain": [
       "       PassengerId    Survived      Pclass         Age       SibSp  \\\n",
       "count   891.000000  891.000000  891.000000  714.000000  891.000000   \n",
       "mean    446.000000    0.383838    2.308642   29.699118    0.523008   \n",
       "std     257.353842    0.486592    0.836071   14.526497    1.102743   \n",
       "min       1.000000    0.000000    1.000000    0.420000    0.000000   \n",
       "25%     223.500000    0.000000    2.000000   20.125000    0.000000   \n",
       "50%     446.000000    0.000000    3.000000   28.000000    0.000000   \n",
       "75%     668.500000    1.000000    3.000000   38.000000    1.000000   \n",
       "max     891.000000    1.000000    3.000000   80.000000    8.000000   \n",
       "\n",
       "            Parch        Fare  \n",
       "count  891.000000  891.000000  \n",
       "mean     0.381594   32.204208  \n",
       "std      0.806057   49.693429  \n",
       "min      0.000000    0.000000  \n",
       "25%      0.000000    7.910400  \n",
       "50%      0.000000   14.454200  \n",
       "75%      0.000000   31.000000  \n",
       "max      6.000000  512.329200  "
      ]
     },
     "execution_count": 5,
     "metadata": {},
     "output_type": "execute_result"
    }
   ],
   "source": [
    "df.describe()"
   ]
  },
  {
   "cell_type": "code",
   "execution_count": 6,
   "id": "e7f8e530",
   "metadata": {},
   "outputs": [],
   "source": [
    "mod_df = df.mode().iloc[0]"
   ]
  },
  {
   "cell_type": "code",
   "execution_count": 7,
   "id": "397e7885",
   "metadata": {},
   "outputs": [
    {
     "name": "stdout",
     "output_type": "stream",
     "text": [
      "PassengerId:0\n",
      "Survived:0\n",
      "Pclass:0\n",
      "Name:0\n",
      "Sex:0\n",
      "Age:177\n",
      "SibSp:0\n",
      "Parch:0\n",
      "Ticket:0\n",
      "Fare:0\n",
      "Cabin:687\n",
      "Embarked:2\n"
     ]
    }
   ],
   "source": [
    "# 查看存在nan值的列\n",
    "for column in df.columns:\n",
    "    c = len(df[df[column].isna()])\n",
    "    print(f'{column}:{c}')"
   ]
  },
  {
   "cell_type": "code",
   "execution_count": 8,
   "id": "6f71f3f5",
   "metadata": {},
   "outputs": [
    {
     "data": {
      "text/plain": [
       "342"
      ]
     },
     "execution_count": 8,
     "metadata": {},
     "output_type": "execute_result"
    }
   ],
   "source": [
    "df['Survived'].sum()"
   ]
  },
  {
   "cell_type": "markdown",
   "id": "b4bd9cc1",
   "metadata": {},
   "source": [
    "# 2.获取基线\n",
    "- 根据类别占比计算基线1\n",
    "- 简单特征工程和模型计算基线2"
   ]
  },
  {
   "cell_type": "markdown",
   "id": "f80abca0",
   "metadata": {},
   "source": [
    "## （1）baseline1\n",
    "- 使用数量多的类别作为预测结果"
   ]
  },
  {
   "cell_type": "code",
   "execution_count": 9,
   "id": "f7a8241b",
   "metadata": {},
   "outputs": [
    {
     "name": "stdout",
     "output_type": "stream",
     "text": [
      "0.6161616161616161\n"
     ]
    }
   ],
   "source": [
    "baseline1 = (len(df) - df['Survived'].sum()) / len(df)\n",
    "print(baseline1)"
   ]
  },
  {
   "cell_type": "markdown",
   "id": "b6bd7193",
   "metadata": {},
   "source": [
    "## （2）baseline2\n",
    "- 简单的特征工程+模型获取基线"
   ]
  },
  {
   "cell_type": "markdown",
   "id": "1087b2b7",
   "metadata": {},
   "source": [
    "### 数据预处理\n",
    "- 填充缺失值"
   ]
  },
  {
   "cell_type": "code",
   "execution_count": 10,
   "id": "0f8e7b06",
   "metadata": {},
   "outputs": [],
   "source": [
    "df = df.fillna(mod_df)"
   ]
  },
  {
   "cell_type": "markdown",
   "id": "96d64881",
   "metadata": {},
   "source": [
    "### 特征工程\n",
    "- Pclass: 转为one-hot\n",
    "- Name: 字符串类型，先不使用该特征\n",
    "- sex: 0-1\n",
    "- Age: 浮点数，使用众数填充na\n",
    "- SibSp: 浮点数\n",
    "- Parch: 浮点数\n",
    "- Ticket: 先不用\n",
    "- Fare: 浮点数\n",
    "- Cabin: 字符串类型，缺失值多，先不用\n",
    "- Embarked: 转为one-hot，使用众数填充na"
   ]
  },
  {
   "cell_type": "code",
   "execution_count": 12,
   "id": "4abd4aba",
   "metadata": {},
   "outputs": [
    {
     "name": "stderr",
     "output_type": "stream",
     "text": [
      "/Users/zhushuguang/Software/miniconda3/envs/python38/lib/python3.8/site-packages/sklearn/base.py:441: UserWarning: X does not have valid feature names, but OneHotEncoder was fitted with feature names\n",
      "  warnings.warn(\n"
     ]
    }
   ],
   "source": [
    "from sklearn.preprocessing import OneHotEncoder\n",
    "import numpy as np\n",
    "\n",
    "onehot_columns = ['Sex', 'Pclass', 'Embarked']\n",
    "value_columns = ['Age', 'SibSp', 'Parch', 'Fare']\n",
    "\n",
    "enc = OneHotEncoder(handle_unknown='ignore')\n",
    "enc.fit(df[onehot_columns])\n",
    "\n",
    "enc_names = enc.get_feature_names_out(onehot_columns).tolist()\n",
    "fea_names = enc_names + value_columns\n",
    "\n",
    "def baseline_fea(df):\n",
    "    ori_onehot_fea = df[onehot_columns].values\n",
    "    value_fea = df[value_columns].values\n",
    "    \n",
    "    onehot_fea = enc.transform(ori_onehot_fea).toarray()\n",
    "    \n",
    "    fea = np.concatenate([onehot_fea, value_fea], axis=1)\n",
    "    \n",
    "    return fea\n",
    "    \n",
    "    \n",
    "fea = baseline_fea(df)\n",
    "lab = df.Survived.values"
   ]
  },
  {
   "cell_type": "markdown",
   "id": "5e64e715",
   "metadata": {},
   "source": [
    "### 模型训练\n",
    "- 选择xgb二分类"
   ]
  },
  {
   "cell_type": "code",
   "execution_count": 18,
   "id": "6bb2977e",
   "metadata": {},
   "outputs": [],
   "source": [
    "import xgboost as xgb\n",
    "from sklearn.metrics import accuracy_score\n",
    "import random\n",
    "\n",
    "\n",
    "index = list(range(len(fea)))\n",
    "random.shuffle(index)\n",
    "train_ratio = 0.8\n",
    "train_fea = fea[index[:int(len(fea) * 0.8)]]\n",
    "val_fea = fea[index[int(len(fea) * 0.8):]]\n",
    "train_lab = lab[index[:int(len(fea) * 0.8)]]\n",
    "val_lab = lab[index[int(len(fea) * 0.8):]]\n",
    "\n",
    "train_data = xgb.DMatrix(train_fea, label=train_lab)\n",
    "val_data = xgb.DMatrix(val_fea, label=val_lab)\n",
    "\n",
    "param = {'max_depth': 4, 'eta': 0.3, 'objective': 'binary:logistic'}\n",
    "num_round = 100\n"
   ]
  },
  {
   "cell_type": "code",
   "execution_count": 19,
   "id": "087ac5d6",
   "metadata": {},
   "outputs": [
    {
     "name": "stdout",
     "output_type": "stream",
     "text": [
      "[18:15:00] WARNING: /opt/concourse/worker/volumes/live/7a2b9f41-3287-451b-6691-43e9a6c0910f/volume/xgboost-split_1619728204606/work/src/learner.cc:1061: Starting in XGBoost 1.3.0, the default evaluation metric used with the objective 'binary:logistic' was changed from 'error' to 'logloss'. Explicitly set eval_metric if you'd like to restore the old behavior.\n"
     ]
    }
   ],
   "source": [
    "bst = xgb.train(param, train_data, num_round)"
   ]
  },
  {
   "cell_type": "code",
   "execution_count": 22,
   "id": "6da64b18",
   "metadata": {},
   "outputs": [],
   "source": [
    "val_prob = bst.predict(val_data)"
   ]
  },
  {
   "cell_type": "code",
   "execution_count": 29,
   "id": "0b08e616",
   "metadata": {},
   "outputs": [
    {
     "name": "stdout",
     "output_type": "stream",
     "text": [
      "0.7932960893854749\n"
     ]
    }
   ],
   "source": [
    "thres = 0.5\n",
    "val_predict = np.array([1 if p >= thres else 0 for p in val_prob])\n",
    "acc = (val_predict == val_lab).sum() / len(val_lab)\n",
    "print(acc)"
   ]
  },
  {
   "cell_type": "code",
   "execution_count": 30,
   "id": "49f1fa51",
   "metadata": {},
   "outputs": [
    {
     "name": "stderr",
     "output_type": "stream",
     "text": [
      "/Users/zhushuguang/Software/miniconda3/envs/python38/lib/python3.8/site-packages/sklearn/base.py:441: UserWarning: X does not have valid feature names, but OneHotEncoder was fitted with feature names\n",
      "  warnings.warn(\n"
     ]
    }
   ],
   "source": [
    "# 测试集结果\n",
    "test_df = test_df.fillna(mod_df)\n",
    "test_fea = baseline_fea(test_df)\n",
    "test_fea = xgb.DMatrix(test_fea)\n",
    "test_prob = bst.predict(test_fea)\n",
    "\n",
    "test_predict = np.array([1 if p >= thres else 0 for p in test_prob])"
   ]
  },
  {
   "cell_type": "code",
   "execution_count": 31,
   "id": "6000116a",
   "metadata": {},
   "outputs": [
    {
     "name": "stdout",
     "output_type": "stream",
     "text": [
      "[0.04476339 0.01853532 0.06581522 0.38680032 0.10607986 0.09970482\n",
      " 0.07255739 0.0109132  0.9338133  0.01177681 0.00629928 0.0725457\n",
      " 0.98062193 0.05485411 0.95392275 0.9830035  0.04331405 0.45074102\n",
      " 0.28768307 0.03187041 0.6214421  0.23131998 0.99838674 0.7515552\n",
      " 0.9454073  0.04076429 0.9993747  0.61610794 0.7648462  0.5231955\n",
      " 0.10891473 0.07808999 0.45231205 0.06838726 0.68820184 0.43530428\n",
      " 0.09994216 0.03069982 0.1185584  0.39398468 0.17289448 0.36277404\n",
      " 0.07909153 0.99200636 0.9826318  0.12935536 0.18154132 0.09578732\n",
      " 0.9950008  0.72429353 0.41884598 0.1498711  0.9285936  0.64128274\n",
      " 0.59156066 0.00488378 0.0157155  0.05147028 0.03061658 0.9983999\n",
      " 0.02239395 0.34457585 0.03240509 0.90008444 0.58912075 0.9786189\n",
      " 0.8918072  0.03085805 0.10522142 0.9029872  0.8589683  0.00609802\n",
      " 0.43026605 0.07225567 0.99619675 0.54614496 0.02635033 0.9131548\n",
      " 0.17348208 0.8589683  0.97507715 0.0561929  0.2573558  0.00629928\n",
      " 0.12815185 0.07408544 0.8596726  0.71930903 0.8589683  0.94225883\n",
      " 0.09960206 0.02284149 0.7938513  0.02635033 0.7389362  0.1607865\n",
      " 0.98832333 0.42064983 0.4801957  0.0912447  0.98397875 0.03248475\n",
      " 0.09578732 0.1545366  0.56671554 0.02806566 0.27030593 0.09578732\n",
      " 0.02014628 0.13124174 0.03613794 0.75488037 0.9996176  0.8004746\n",
      " 0.9615564  0.03780819 0.06387503 0.77417165 0.7877959  0.7975614\n",
      " 0.9877302  0.04848289 0.99980956 0.02928099 0.09578732 0.69530493\n",
      " 0.13200472 0.9704094  0.2556513  0.02635033 0.29824662 0.04423563\n",
      " 0.12058685 0.03665593 0.03510094 0.04454798 0.59710914 0.2336592\n",
      " 0.06013843 0.00683183 0.00541063 0.99770445 0.07468302 0.02356399\n",
      " 0.7417901  0.077222   0.05439225 0.03783837 0.36277404 0.00999459\n",
      " 0.9992453  0.09116729 0.12100999 0.3265205  0.01246566 0.01328842\n",
      " 0.97692823 0.4153482  0.7417901  0.45533136 0.9000079  0.94869864\n",
      " 0.9829911  0.04055703 0.18655936 0.12861544 0.15712887 0.01472012\n",
      " 0.99536103 0.06481388 0.01328842 0.59710914 0.01318933 0.11374549\n",
      " 0.03509101 0.9962709  0.9968141  0.32008052 0.99633634 0.9897748\n",
      " 0.17348208 0.6322932  0.9889531  0.09578732 0.9064462  0.12877215\n",
      " 0.9717163  0.29324183 0.03900762 0.18655936 0.08848218 0.10424832\n",
      " 0.35874107 0.0565585  0.9314527  0.05334888 0.95545745 0.220968\n",
      " 0.02324005 0.05878223 0.93441427 0.9375212  0.14519688 0.6328699\n",
      " 0.07643552 0.47797367 0.0992482  0.0558269  0.9873695  0.01036799\n",
      " 0.30765566 0.014391   0.04691346 0.81495965 0.04541855 0.16113861\n",
      " 0.8602062  0.09210183 0.9701039  0.02635033 0.93241215 0.03783837\n",
      " 0.9643703  0.13200472 0.96652335 0.9063781  0.0951686  0.8589683\n",
      " 0.06529488 0.1346399  0.11354581 0.99593496 0.00657277 0.08751785\n",
      " 0.6643322  0.0620989  0.2723886  0.45074102 0.9444124  0.9900439\n",
      " 0.9047557  0.97969145 0.20269643 0.00629928 0.02672257 0.120027\n",
      " 0.954275   0.04850208 0.7975614  0.22177792 0.8929757  0.0832\n",
      " 0.12259942 0.06957065 0.14254908 0.01328842 0.09578732 0.04545515\n",
      " 0.99448097 0.01336156 0.03152715 0.04798641 0.9781908  0.6875348\n",
      " 0.3804312  0.00629928 0.06532385 0.01328842 0.09994216 0.08399964\n",
      " 0.13486315 0.09578732 0.9274833  0.91129696 0.09260847 0.84571934\n",
      " 0.07303016 0.03445718 0.01088567 0.02722353 0.03784215 0.96703726\n",
      " 0.8589683  0.29225394 0.4941696  0.0034402  0.01178423 0.08011506\n",
      " 0.11374549 0.02635033 0.02926172 0.02695604 0.11374549 0.06542388\n",
      " 0.14254908 0.03998578 0.93452805 0.5231955  0.03087742 0.20974083\n",
      " 0.07905795 0.08913492 0.02761451 0.02014628 0.8589683  0.9743386\n",
      " 0.02913311 0.9660869  0.08868627 0.01455079 0.11052482 0.6988464\n",
      " 0.01328842 0.05199395 0.9868199  0.8550593  0.11181001 0.17547657\n",
      " 0.6122432  0.0367716  0.1545366  0.29427883 0.2336592  0.8408388\n",
      " 0.9947189  0.02724072 0.95218813 0.08691052 0.0231895  0.04282051\n",
      " 0.99718046 0.32672408 0.09260847 0.97417045 0.17673412 0.14041644\n",
      " 0.36485076 0.00436363 0.20408984 0.11374549 0.14698862 0.02608391\n",
      " 0.032711   0.98131794 0.02366873 0.88803214 0.2336592  0.07522388\n",
      " 0.11128925 0.9866388  0.9924987  0.07643552 0.03577907 0.0598789\n",
      " 0.45872426 0.21168494 0.99110025 0.02898075 0.09578732 0.24734585\n",
      " 0.0082393  0.9951272  0.9866388  0.38680032 0.99505436 0.08362242\n",
      " 0.07408544 0.05318912 0.99801046 0.5950616  0.00885805 0.9988244\n",
      " 0.03656327 0.24479759 0.9760677  0.9803935  0.02951251 0.02470906\n",
      " 0.01635587 0.16302308 0.09578732 0.1981029  0.19372739 0.35181174\n",
      " 0.11128925 0.98046136 0.02284149 0.10091009 0.06456667 0.10488078\n",
      " 0.14626394 0.98923874 0.23526555 0.16903588 0.0163425  0.99544865\n",
      " 0.0101708  0.9981584  0.04270753 0.0296237  0.97962254 0.03768677\n",
      " 0.9998     0.02481624 0.0263602  0.50265926 0.00832338 0.19873352\n",
      " 0.77348506 0.9062538  0.8589683  0.99910104 0.12874816 0.02635033\n",
      " 0.9981698  0.00698632 0.02635033 0.6758914 ]\n"
     ]
    }
   ],
   "source": [
    "print(test_prob)"
   ]
  },
  {
   "cell_type": "code",
   "execution_count": null,
   "id": "9fea4bde",
   "metadata": {},
   "outputs": [],
   "source": []
  }
 ],
 "metadata": {
  "kernelspec": {
   "display_name": "Python (py38)",
   "language": "python",
   "name": "py38"
  },
  "language_info": {
   "codemirror_mode": {
    "name": "ipython",
    "version": 3
   },
   "file_extension": ".py",
   "mimetype": "text/x-python",
   "name": "python",
   "nbconvert_exporter": "python",
   "pygments_lexer": "ipython3",
   "version": "3.8.10"
  }
 },
 "nbformat": 4,
 "nbformat_minor": 5
}
